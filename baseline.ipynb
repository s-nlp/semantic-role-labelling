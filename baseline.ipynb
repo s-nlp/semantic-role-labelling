{
  "cells": [
    {
      "cell_type": "code",
      "source": [
        "!git clone https://github.com/s-nlp/semantic-role-labelling"
      ],
      "metadata": {
        "id": "k_94nJmk4Z7z",
        "outputId": "ef95f495-421e-42ab-cfa5-f7d0e65ce848",
        "colab": {
          "base_uri": "https://localhost:8080/"
        }
      },
      "execution_count": 1,
      "outputs": [
        {
          "output_type": "stream",
          "name": "stdout",
          "text": [
            "Cloning into 'semantic-role-labelling'...\n",
            "remote: Enumerating objects: 20, done.\u001b[K\n",
            "remote: Counting objects: 100% (20/20), done.\u001b[K\n",
            "remote: Compressing objects: 100% (16/16), done.\u001b[K\n",
            "remote: Total 20 (delta 3), reused 0 (delta 0), pack-reused 0\u001b[K\n",
            "Receiving objects: 100% (20/20), 174.73 KiB | 3.72 MiB/s, done.\n",
            "Resolving deltas: 100% (3/3), done.\n"
          ]
        }
      ]
    },
    {
      "cell_type": "code",
      "execution_count": 2,
      "metadata": {
        "id": "yS9d9Mwt4HAQ"
      },
      "outputs": [],
      "source": [
        "import torch\n",
        "import torch.nn as nn\n",
        "import torch.nn.functional as F\n",
        "import torch.optim as optim\n",
        "\n",
        "from tqdm import tqdm"
      ]
    },
    {
      "cell_type": "code",
      "execution_count": 3,
      "metadata": {
        "id": "SaUh_OYx4HAS"
      },
      "outputs": [],
      "source": [
        "from sklearn.metrics import f1_score"
      ]
    },
    {
      "cell_type": "markdown",
      "metadata": {
        "id": "XGCbES6R4HAS"
      },
      "source": [
        "# Data loading"
      ]
    },
    {
      "cell_type": "code",
      "execution_count": 4,
      "metadata": {
        "id": "qATqkVh54HAT"
      },
      "outputs": [],
      "source": [
        "def prepare_sequence(seq, to_ix):\n",
        "    idxs = [to_ix[w] for w in seq]\n",
        "    return torch.tensor(idxs, dtype=torch.long)"
      ]
    },
    {
      "cell_type": "code",
      "execution_count": 5,
      "metadata": {
        "id": "AzKF7xw84HAT"
      },
      "outputs": [],
      "source": [
        "def read_dataset(filename, splitter=\"\\t\"):\n",
        "    data = []\n",
        "    sentence = []\n",
        "    tags = []\n",
        "    with open(filename) as f:\n",
        "        for line in f:\n",
        "            if not line.isspace():\n",
        "                word, tag = line.split(splitter)\n",
        "                sentence.append(word)\n",
        "                tags.append(tag.strip())\n",
        "            else:\n",
        "                data.append((sentence, tags))\n",
        "                sentence = []\n",
        "                tags = []\n",
        "    return data"
      ]
    },
    {
      "cell_type": "code",
      "execution_count": 6,
      "metadata": {
        "id": "adz9TNUQ4HAT"
      },
      "outputs": [],
      "source": [
        "training_data = read_dataset(\"semantic-role-labelling/train.tsv\")"
      ]
    },
    {
      "cell_type": "code",
      "execution_count": 7,
      "metadata": {
        "id": "xkqNbYm-4HAU",
        "outputId": "7d5c0236-f6b1-4c1e-d9b5-74ffc3249b44",
        "colab": {
          "base_uri": "https://localhost:8080/"
        }
      },
      "outputs": [
        {
          "output_type": "execute_result",
          "data": {
            "text/plain": [
              "(['also',\n",
              "  ',',\n",
              "  'i',\n",
              "  'have',\n",
              "  'recently',\n",
              "  'discovered',\n",
              "  'advil',\n",
              "  'liquigels',\n",
              "  'work',\n",
              "  'much',\n",
              "  'better',\n",
              "  'and',\n",
              "  'faster',\n",
              "  'for',\n",
              "  'a',\n",
              "  'headache',\n",
              "  'than',\n",
              "  'regular',\n",
              "  'ibuprofen',\n",
              "  '.'],\n",
              " ['O',\n",
              "  'O',\n",
              "  'O',\n",
              "  'O',\n",
              "  'O',\n",
              "  'O',\n",
              "  'B-Object',\n",
              "  'O',\n",
              "  'O',\n",
              "  'O',\n",
              "  'B-Predicate',\n",
              "  'O',\n",
              "  'B-Predicate',\n",
              "  'O',\n",
              "  'O',\n",
              "  'B-Aspect',\n",
              "  'O',\n",
              "  'O',\n",
              "  'B-Object',\n",
              "  'O'])"
            ]
          },
          "metadata": {},
          "execution_count": 7
        }
      ],
      "source": [
        "training_data[0]"
      ]
    },
    {
      "cell_type": "code",
      "execution_count": 8,
      "metadata": {
        "id": "4qtwX4VQ4HAU"
      },
      "outputs": [],
      "source": [
        "test_data = read_dataset(\"semantic-role-labelling/test_no_answers.tsv\", splitter=\"\\n\")"
      ]
    },
    {
      "cell_type": "code",
      "execution_count": 9,
      "metadata": {
        "id": "iUZlcxy44HAU"
      },
      "outputs": [],
      "source": [
        "word_to_ix = {}\n",
        "\n",
        "# For each words-list (sentence) and tags-list in each tuple of training_data\n",
        "for sent, tags in training_data:\n",
        "    for word in sent:\n",
        "        if word not in word_to_ix:  # word has not been assigned an index yet\n",
        "            word_to_ix[word] = len(word_to_ix)  # Assign each word with a unique index\n",
        "\n",
        "for sent, tags in test_data:\n",
        "    for word in sent:\n",
        "        if word not in word_to_ix:  # word has not been assigned an index yet\n",
        "            word_to_ix[word] = len(word_to_ix)  # Assign each word with a unique index\n",
        "\n",
        "\n",
        "tag_to_ix = {\n",
        "    \"O\": 0,\n",
        "    \"B-Object\": 1,\n",
        "    \"I-Object\": 2,\n",
        "    \"B-Aspect\": 3,\n",
        "    \"I-Aspect\": 4,\n",
        "    \"B-Predicate\": 5,\n",
        "    \"I-Predicate\": 6\n",
        "}  # Assign each tag with a unique index\n",
        "\n",
        "idx_to_tag = dict(map(reversed, tag_to_ix.items()))\n",
        "\n",
        "EMBEDDING_DIM = 32\n",
        "HIDDEN_DIM = 64"
      ]
    },
    {
      "cell_type": "markdown",
      "metadata": {
        "id": "i1w2tcK74HAV"
      },
      "source": [
        "# Tagger"
      ]
    },
    {
      "cell_type": "code",
      "execution_count": 10,
      "metadata": {
        "id": "xNqQH0tw4HAV"
      },
      "outputs": [],
      "source": [
        "class LSTMTagger(nn.Module):\n",
        "\n",
        "    def __init__(self, embedding_dim, hidden_dim, vocab_size, tagset_size):\n",
        "        super(LSTMTagger, self).__init__()\n",
        "        self.hidden_dim = hidden_dim\n",
        "\n",
        "        self.word_embeddings = nn.Embedding(vocab_size, embedding_dim)\n",
        "\n",
        "        # The LSTM takes word embeddings as inputs, and outputs hidden states\n",
        "        # with dimensionality hidden_dim.\n",
        "        self.lstm = nn.LSTM(embedding_dim, hidden_dim)\n",
        "\n",
        "        # The linear layer that maps from hidden state space to tag space\n",
        "        self.hidden2tag = nn.Linear(hidden_dim, tagset_size)\n",
        "\n",
        "    def forward(self, sentence):\n",
        "        embeds = self.word_embeddings(sentence)\n",
        "        lstm_out, _ = self.lstm(embeds.view(len(sentence), 1, -1))\n",
        "        tag_space = self.hidden2tag(lstm_out.view(len(sentence), -1))\n",
        "        tag_scores = F.log_softmax(tag_space, dim=1)\n",
        "        return tag_scores"
      ]
    },
    {
      "cell_type": "markdown",
      "metadata": {
        "id": "KGZ4fvn54HAV"
      },
      "source": [
        "# Training"
      ]
    },
    {
      "cell_type": "code",
      "execution_count": 11,
      "metadata": {
        "id": "fu7OT9ca4HAV"
      },
      "outputs": [],
      "source": [
        "model = LSTMTagger(EMBEDDING_DIM, HIDDEN_DIM, len(word_to_ix), len(tag_to_ix))\n",
        "loss_function = nn.NLLLoss()\n",
        "optimizer = optim.SGD(model.parameters(), lr=0.1)"
      ]
    },
    {
      "cell_type": "code",
      "execution_count": 12,
      "metadata": {
        "id": "SGkIYNog4HAV",
        "outputId": "dc617811-33ea-4ef7-fe78-0e289eff985d",
        "colab": {
          "base_uri": "https://localhost:8080/"
        }
      },
      "outputs": [
        {
          "output_type": "stream",
          "name": "stderr",
          "text": [
            "100%|██████████| 10/10 [00:54<00:00,  5.46s/it]\n"
          ]
        }
      ],
      "source": [
        "with torch.no_grad():\n",
        "    inputs = prepare_sequence(training_data[0][0], word_to_ix)\n",
        "    tag_scores = model(inputs)\n",
        "\n",
        "for epoch in tqdm(range(10)):  # again, normally you would NOT do 300 epochs, it is toy data\n",
        "    for sentence, tags in training_data:\n",
        "        # Step 1. Remember that Pytorch accumulates gradients.\n",
        "        # We need to clear them out before each instance\n",
        "        model.zero_grad()\n",
        "\n",
        "        # Step 2. Get our inputs ready for the network, that is, turn them into\n",
        "        # Tensors of word indices.\n",
        "        sentence_in = prepare_sequence(sentence, word_to_ix)\n",
        "        targets = prepare_sequence(tags, tag_to_ix)\n",
        "\n",
        "        # Step 3. Run our forward pass.\n",
        "        tag_scores = model(sentence_in)\n",
        "\n",
        "        # Step 4. Compute the loss, gradients, and update the parameters by\n",
        "        #  calling optimizer.step()\n",
        "        loss = loss_function(tag_scores, targets)\n",
        "        loss.backward()\n",
        "        optimizer.step()"
      ]
    },
    {
      "cell_type": "markdown",
      "metadata": {
        "id": "fYaD0zea4HAW"
      },
      "source": [
        "# Inference"
      ]
    },
    {
      "cell_type": "code",
      "execution_count": 13,
      "metadata": {
        "id": "gXI8fKeA4HAW",
        "outputId": "f51cb8e0-7e65-4346-8ca1-b3fe431a4633",
        "colab": {
          "base_uri": "https://localhost:8080/"
        }
      },
      "outputs": [
        {
          "output_type": "stream",
          "name": "stdout",
          "text": [
            "also O\n",
            ", O\n",
            "i O\n",
            "have O\n",
            "recently O\n",
            "discovered O\n",
            "advil B-Object\n",
            "liquigels O\n",
            "work O\n",
            "much O\n",
            "better B-Predicate\n",
            "and O\n",
            "faster B-Predicate\n",
            "for O\n",
            "a O\n",
            "headache O\n",
            "than O\n",
            "regular O\n",
            "ibuprofen B-Object\n",
            ". O\n"
          ]
        }
      ],
      "source": [
        "with torch.no_grad():\n",
        "    inputs = prepare_sequence(training_data[0][0], word_to_ix)\n",
        "    tag_scores = model(inputs)\n",
        "    tags = [idx_to_tag[int(i)] for i in tag_scores.argmax(dim=-1)]\n",
        "\n",
        "    for i, y in zip(training_data[0][0], tags):\n",
        "        print(i, y)"
      ]
    },
    {
      "cell_type": "code",
      "execution_count": 14,
      "metadata": {
        "id": "b5XZ7ps44HAW",
        "outputId": "5dc9dbc3-0220-4767-f9bd-491f7bd4fa9c",
        "colab": {
          "base_uri": "https://localhost:8080/"
        }
      },
      "outputs": [
        {
          "output_type": "stream",
          "name": "stderr",
          "text": [
            "100%|██████████| 360/360 [00:00<00:00, 920.21it/s]\n"
          ]
        }
      ],
      "source": [
        "with open(\"out_test.tsv\", \"w\") as w:\n",
        "    with torch.no_grad():\n",
        "        for sentence in tqdm(test_data):\n",
        "            inputs = prepare_sequence(sentence[0], word_to_ix)\n",
        "            tag_scores = model(inputs)\n",
        "            tags = [idx_to_tag[int(i)] for i in tag_scores.argmax(dim=-1)]\n",
        "            for i, y in zip(sentence[0], tags):\n",
        "                w.write(f\"{i}\\t{y}\\n\")\n",
        "            w.write(\"\\n\")\n",
        ""
      ]
    },
    {
      "cell_type": "code",
      "execution_count": 15,
      "metadata": {
        "id": "f2O5sFFS4HAW",
        "outputId": "93bab5ab-9eaf-45c3-b930-c5de6aff6d65",
        "colab": {
          "base_uri": "https://localhost:8080/"
        }
      },
      "outputs": [
        {
          "output_type": "stream",
          "name": "stdout",
          "text": [
            "  adding: out_test.tsv (deflated 74%)\n"
          ]
        }
      ],
      "source": [
        "!zip out.zip out_test.tsv"
      ]
    },
    {
      "cell_type": "code",
      "execution_count": 15,
      "metadata": {
        "id": "VI3c7sx74HAW"
      },
      "outputs": [],
      "source": []
    }
  ],
  "metadata": {
    "kernelspec": {
      "display_name": "Python 3",
      "language": "python",
      "name": "python3"
    },
    "language_info": {
      "codemirror_mode": {
        "name": "ipython",
        "version": 3
      },
      "file_extension": ".py",
      "mimetype": "text/x-python",
      "name": "python",
      "nbconvert_exporter": "python",
      "pygments_lexer": "ipython3",
      "version": "3.7.4"
    },
    "colab": {
      "provenance": []
    }
  },
  "nbformat": 4,
  "nbformat_minor": 0
}